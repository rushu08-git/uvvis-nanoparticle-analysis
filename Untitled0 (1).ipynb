{
  "nbformat": 4,
  "nbformat_minor": 0,
  "metadata": {
    "colab": {
      "provenance": []
    },
    "kernelspec": {
      "name": "python3",
      "display_name": "Python 3"
    },
    "language_info": {
      "name": "python"
    }
  },
  "cells": [
    {
      "cell_type": "code",
      "source": [
        "from google.colab import files\n",
        "import zipfile\n",
        "import os\n",
        "\n",
        "# Upload the zip file manually\n",
        "uploaded = files.upload()  # Select `27nm_7-5mM_gel.zip` from your computer\n",
        "\n",
        "# Extract it\n",
        "zip_name = list(uploaded.keys())[0]  # Get uploaded filename\n",
        "extract_to = \"/content/extracted\"\n",
        "with zipfile.ZipFile(zip_name, 'r') as zip_ref:\n",
        "    zip_ref.extractall(extract_to)\n",
        "\n",
        "# Show all extracted files\n",
        "for root, dirs, files_in_dir in os.walk(extract_to):\n",
        "    for name in files_in_dir:\n",
        "        print(os.path.join(root, name))\n",
        "\n"
      ],
      "metadata": {
        "colab": {
          "base_uri": "https://localhost:8080/",
          "height": 419
        },
        "id": "twlcJEEyBCwb",
        "outputId": "2875d6d0-2d89-4ade-f33b-0d06914e7abc"
      },
      "execution_count": null,
      "outputs": [
        {
          "output_type": "display_data",
          "data": {
            "text/plain": [
              "<IPython.core.display.HTML object>"
            ],
            "text/html": [
              "\n",
              "     <input type=\"file\" id=\"files-bc02348b-ff13-4f74-a7f9-54f92951f19f\" name=\"files[]\" multiple disabled\n",
              "        style=\"border:none\" />\n",
              "     <output id=\"result-bc02348b-ff13-4f74-a7f9-54f92951f19f\">\n",
              "      Upload widget is only available when the cell has been executed in the\n",
              "      current browser session. Please rerun this cell to enable.\n",
              "      </output>\n",
              "      <script>// Copyright 2017 Google LLC\n",
              "//\n",
              "// Licensed under the Apache License, Version 2.0 (the \"License\");\n",
              "// you may not use this file except in compliance with the License.\n",
              "// You may obtain a copy of the License at\n",
              "//\n",
              "//      http://www.apache.org/licenses/LICENSE-2.0\n",
              "//\n",
              "// Unless required by applicable law or agreed to in writing, software\n",
              "// distributed under the License is distributed on an \"AS IS\" BASIS,\n",
              "// WITHOUT WARRANTIES OR CONDITIONS OF ANY KIND, either express or implied.\n",
              "// See the License for the specific language governing permissions and\n",
              "// limitations under the License.\n",
              "\n",
              "/**\n",
              " * @fileoverview Helpers for google.colab Python module.\n",
              " */\n",
              "(function(scope) {\n",
              "function span(text, styleAttributes = {}) {\n",
              "  const element = document.createElement('span');\n",
              "  element.textContent = text;\n",
              "  for (const key of Object.keys(styleAttributes)) {\n",
              "    element.style[key] = styleAttributes[key];\n",
              "  }\n",
              "  return element;\n",
              "}\n",
              "\n",
              "// Max number of bytes which will be uploaded at a time.\n",
              "const MAX_PAYLOAD_SIZE = 100 * 1024;\n",
              "\n",
              "function _uploadFiles(inputId, outputId) {\n",
              "  const steps = uploadFilesStep(inputId, outputId);\n",
              "  const outputElement = document.getElementById(outputId);\n",
              "  // Cache steps on the outputElement to make it available for the next call\n",
              "  // to uploadFilesContinue from Python.\n",
              "  outputElement.steps = steps;\n",
              "\n",
              "  return _uploadFilesContinue(outputId);\n",
              "}\n",
              "\n",
              "// This is roughly an async generator (not supported in the browser yet),\n",
              "// where there are multiple asynchronous steps and the Python side is going\n",
              "// to poll for completion of each step.\n",
              "// This uses a Promise to block the python side on completion of each step,\n",
              "// then passes the result of the previous step as the input to the next step.\n",
              "function _uploadFilesContinue(outputId) {\n",
              "  const outputElement = document.getElementById(outputId);\n",
              "  const steps = outputElement.steps;\n",
              "\n",
              "  const next = steps.next(outputElement.lastPromiseValue);\n",
              "  return Promise.resolve(next.value.promise).then((value) => {\n",
              "    // Cache the last promise value to make it available to the next\n",
              "    // step of the generator.\n",
              "    outputElement.lastPromiseValue = value;\n",
              "    return next.value.response;\n",
              "  });\n",
              "}\n",
              "\n",
              "/**\n",
              " * Generator function which is called between each async step of the upload\n",
              " * process.\n",
              " * @param {string} inputId Element ID of the input file picker element.\n",
              " * @param {string} outputId Element ID of the output display.\n",
              " * @return {!Iterable<!Object>} Iterable of next steps.\n",
              " */\n",
              "function* uploadFilesStep(inputId, outputId) {\n",
              "  const inputElement = document.getElementById(inputId);\n",
              "  inputElement.disabled = false;\n",
              "\n",
              "  const outputElement = document.getElementById(outputId);\n",
              "  outputElement.innerHTML = '';\n",
              "\n",
              "  const pickedPromise = new Promise((resolve) => {\n",
              "    inputElement.addEventListener('change', (e) => {\n",
              "      resolve(e.target.files);\n",
              "    });\n",
              "  });\n",
              "\n",
              "  const cancel = document.createElement('button');\n",
              "  inputElement.parentElement.appendChild(cancel);\n",
              "  cancel.textContent = 'Cancel upload';\n",
              "  const cancelPromise = new Promise((resolve) => {\n",
              "    cancel.onclick = () => {\n",
              "      resolve(null);\n",
              "    };\n",
              "  });\n",
              "\n",
              "  // Wait for the user to pick the files.\n",
              "  const files = yield {\n",
              "    promise: Promise.race([pickedPromise, cancelPromise]),\n",
              "    response: {\n",
              "      action: 'starting',\n",
              "    }\n",
              "  };\n",
              "\n",
              "  cancel.remove();\n",
              "\n",
              "  // Disable the input element since further picks are not allowed.\n",
              "  inputElement.disabled = true;\n",
              "\n",
              "  if (!files) {\n",
              "    return {\n",
              "      response: {\n",
              "        action: 'complete',\n",
              "      }\n",
              "    };\n",
              "  }\n",
              "\n",
              "  for (const file of files) {\n",
              "    const li = document.createElement('li');\n",
              "    li.append(span(file.name, {fontWeight: 'bold'}));\n",
              "    li.append(span(\n",
              "        `(${file.type || 'n/a'}) - ${file.size} bytes, ` +\n",
              "        `last modified: ${\n",
              "            file.lastModifiedDate ? file.lastModifiedDate.toLocaleDateString() :\n",
              "                                    'n/a'} - `));\n",
              "    const percent = span('0% done');\n",
              "    li.appendChild(percent);\n",
              "\n",
              "    outputElement.appendChild(li);\n",
              "\n",
              "    const fileDataPromise = new Promise((resolve) => {\n",
              "      const reader = new FileReader();\n",
              "      reader.onload = (e) => {\n",
              "        resolve(e.target.result);\n",
              "      };\n",
              "      reader.readAsArrayBuffer(file);\n",
              "    });\n",
              "    // Wait for the data to be ready.\n",
              "    let fileData = yield {\n",
              "      promise: fileDataPromise,\n",
              "      response: {\n",
              "        action: 'continue',\n",
              "      }\n",
              "    };\n",
              "\n",
              "    // Use a chunked sending to avoid message size limits. See b/62115660.\n",
              "    let position = 0;\n",
              "    do {\n",
              "      const length = Math.min(fileData.byteLength - position, MAX_PAYLOAD_SIZE);\n",
              "      const chunk = new Uint8Array(fileData, position, length);\n",
              "      position += length;\n",
              "\n",
              "      const base64 = btoa(String.fromCharCode.apply(null, chunk));\n",
              "      yield {\n",
              "        response: {\n",
              "          action: 'append',\n",
              "          file: file.name,\n",
              "          data: base64,\n",
              "        },\n",
              "      };\n",
              "\n",
              "      let percentDone = fileData.byteLength === 0 ?\n",
              "          100 :\n",
              "          Math.round((position / fileData.byteLength) * 100);\n",
              "      percent.textContent = `${percentDone}% done`;\n",
              "\n",
              "    } while (position < fileData.byteLength);\n",
              "  }\n",
              "\n",
              "  // All done.\n",
              "  yield {\n",
              "    response: {\n",
              "      action: 'complete',\n",
              "    }\n",
              "  };\n",
              "}\n",
              "\n",
              "scope.google = scope.google || {};\n",
              "scope.google.colab = scope.google.colab || {};\n",
              "scope.google.colab._files = {\n",
              "  _uploadFiles,\n",
              "  _uploadFilesContinue,\n",
              "};\n",
              "})(self);\n",
              "</script> "
            ]
          },
          "metadata": {}
        },
        {
          "output_type": "stream",
          "name": "stdout",
          "text": [
            "Saving 27nm_7-5mM_gel.zip to 27nm_7-5mM_gel (1).zip\n",
            "/content/extracted/27nm_7-5mM_gel/.DS_Store\n",
            "/content/extracted/27nm_7-5mM_gel/continuous/27nm_7-5mM_gel.csv\n",
            "/content/extracted/27nm_7-5mM_gel/continuous/7030_dmfeg_bkg.csv\n",
            "/content/extracted/27nm_7-5mM_gel/discontinuous/.DS_Store\n",
            "/content/extracted/27nm_7-5mM_gel/discontinuous/20250620_1145am/7030_dmfeg_bkg.csv\n",
            "/content/extracted/27nm_7-5mM_gel/discontinuous/20250620_1145am/27nm_7-5mM_1145am.csv\n",
            "/content/extracted/27nm_7-5mM_gel/discontinuous/20250617_400pm/27nm_7-5mM_gel.csv\n",
            "/content/extracted/27nm_7-5mM_gel/discontinuous/20250617_400pm/7030_dmfeg_bkg.csv\n",
            "/content/extracted/__MACOSX/27nm_7-5mM_gel/._.DS_Store\n",
            "/content/extracted/__MACOSX/27nm_7-5mM_gel/._continuous\n",
            "/content/extracted/__MACOSX/27nm_7-5mM_gel/._discontinuous\n",
            "/content/extracted/__MACOSX/27nm_7-5mM_gel/continuous/._7030_dmfeg_bkg.csv\n",
            "/content/extracted/__MACOSX/27nm_7-5mM_gel/continuous/._27nm_7-5mM_gel.csv\n",
            "/content/extracted/__MACOSX/27nm_7-5mM_gel/discontinuous/._.DS_Store\n",
            "/content/extracted/__MACOSX/27nm_7-5mM_gel/discontinuous/._20250620_1145am\n",
            "/content/extracted/__MACOSX/27nm_7-5mM_gel/discontinuous/._20250617_400pm\n",
            "/content/extracted/__MACOSX/27nm_7-5mM_gel/discontinuous/20250620_1145am/._7030_dmfeg_bkg.csv\n",
            "/content/extracted/__MACOSX/27nm_7-5mM_gel/discontinuous/20250620_1145am/._27nm_7-5mM_1145am.csv\n",
            "/content/extracted/__MACOSX/27nm_7-5mM_gel/discontinuous/20250617_400pm/._7030_dmfeg_bkg.csv\n",
            "/content/extracted/__MACOSX/27nm_7-5mM_gel/discontinuous/20250617_400pm/._27nm_7-5mM_gel.csv\n"
          ]
        }
      ]
    },
    {
      "cell_type": "code",
      "source": [
        "import pandas as pd\n",
        "\n",
        "def load_clean_csv(path):\n",
        "    # Detect first row with numeric data\n",
        "    with open(path, 'r') as f:\n",
        "        lines = f.readlines()\n",
        "    for idx, line in enumerate(lines):\n",
        "        if line.strip() and all(x.replace('.', '', 1).replace('-', '', 1).isdigit() for x in line.strip().split(',')[:2]):\n",
        "            break\n",
        "    df = pd.read_csv(path, skiprows=idx, header=None)\n",
        "    df.columns = [\"Wavenumber\"] + [f\"Time_{i}\" for i in range(1, df.shape[1])]\n",
        "    return df\n"
      ],
      "metadata": {
        "id": "0goOSheGU3g-"
      },
      "execution_count": null,
      "outputs": []
    },
    {
      "cell_type": "code",
      "source": [
        "import os\n",
        "\n",
        "# List every file under /content/extracted\n",
        "for root, dirs, files in os.walk(\"/content/extracted\"):\n",
        "    for name in files:\n",
        "        if name.endswith(\".csv\"):\n",
        "            print(os.path.join(root, name))\n"
      ],
      "metadata": {
        "colab": {
          "base_uri": "https://localhost:8080/"
        },
        "id": "7pBUFK-50kw4",
        "outputId": "115b4a6e-8705-4eec-8920-46260cb7c454"
      },
      "execution_count": null,
      "outputs": [
        {
          "output_type": "stream",
          "name": "stdout",
          "text": [
            "/content/extracted/27nm_7-5mM_gel/continuous/27nm_7-5mM_gel.csv\n",
            "/content/extracted/27nm_7-5mM_gel/continuous/7030_dmfeg_bkg.csv\n",
            "/content/extracted/27nm_7-5mM_gel/discontinuous/20250620_1145am/7030_dmfeg_bkg.csv\n",
            "/content/extracted/27nm_7-5mM_gel/discontinuous/20250620_1145am/27nm_7-5mM_1145am.csv\n",
            "/content/extracted/27nm_7-5mM_gel/discontinuous/20250617_400pm/27nm_7-5mM_gel.csv\n",
            "/content/extracted/27nm_7-5mM_gel/discontinuous/20250617_400pm/7030_dmfeg_bkg.csv\n",
            "/content/extracted/__MACOSX/27nm_7-5mM_gel/continuous/._7030_dmfeg_bkg.csv\n",
            "/content/extracted/__MACOSX/27nm_7-5mM_gel/continuous/._27nm_7-5mM_gel.csv\n",
            "/content/extracted/__MACOSX/27nm_7-5mM_gel/discontinuous/20250620_1145am/._7030_dmfeg_bkg.csv\n",
            "/content/extracted/__MACOSX/27nm_7-5mM_gel/discontinuous/20250620_1145am/._27nm_7-5mM_1145am.csv\n",
            "/content/extracted/__MACOSX/27nm_7-5mM_gel/discontinuous/20250617_400pm/._7030_dmfeg_bkg.csv\n",
            "/content/extracted/__MACOSX/27nm_7-5mM_gel/discontinuous/20250617_400pm/._27nm_7-5mM_gel.csv\n"
          ]
        }
      ]
    },
    {
      "cell_type": "code",
      "source": [
        "# ✅ Extract aligned wavenumbers and convert absorbances to float\n",
        "wavenumbers = merged.iloc[:, 0].values\n",
        "abs_sample  = merged.filter(like='_sample').astype(float).values\n",
        "abs_bkg     = merged.filter(like='_bkg').astype(float).values\n",
        "\n",
        "# ➖ Subtract background\n",
        "abs_corrected = abs_sample - abs_bkg\n"
      ],
      "metadata": {
        "id": "jcZjv1yt3Qoe"
      },
      "execution_count": null,
      "outputs": []
    },
    {
      "cell_type": "code",
      "source": [
        "print(merged.head())\n",
        "print(merged.dtypes)\n"
      ],
      "metadata": {
        "colab": {
          "base_uri": "https://localhost:8080/"
        },
        "id": "_Qmw-GaG3-wm",
        "outputId": "f8bc0bc6-9f54-4a82-9bf3-2c8f8dab17c4"
      },
      "execution_count": null,
      "outputs": [
        {
          "output_type": "stream",
          "name": "stdout",
          "text": [
            "      3034 10_sample Unnamed: 2_sample 10_bkg Unnamed: 2_bkg\n",
            "0  3035.25        10               NaN     10            NaN\n",
            "1   3036.5        10               NaN     10            NaN\n",
            "2  3037.75        10               NaN     10            NaN\n",
            "3     3039        10               NaN     10            NaN\n",
            "4  3040.25        10               NaN     10            NaN\n",
            "3034                 object\n",
            "10_sample            object\n",
            "Unnamed: 2_sample    object\n",
            "10_bkg               object\n",
            "Unnamed: 2_bkg       object\n",
            "dtype: object\n"
          ]
        }
      ]
    },
    {
      "cell_type": "code",
      "source": [
        "def load_clean_csv(path):\n",
        "    import pandas as pd\n",
        "    import csv\n",
        "\n",
        "    # Read file manually to find where numeric data starts\n",
        "    with open(path, 'r') as f:\n",
        "        reader = csv.reader(f)\n",
        "        lines = list(reader)\n",
        "\n",
        "    # Find the first row that looks like real numbers\n",
        "    for i, row in enumerate(lines):\n",
        "        try:\n",
        "            # Try converting first two values to float\n",
        "            float(row[0])\n",
        "            float(row[1])\n",
        "            start_row = i\n",
        "            break\n",
        "        except:\n",
        "            continue\n",
        "\n",
        "    # Load from the detected start row\n",
        "    df = pd.read_csv(path, skiprows=start_row)\n",
        "\n",
        "    # Drop empty or unnamed columns\n",
        "    df = df.loc[:, ~df.columns.str.contains('^Unnamed')]\n",
        "\n",
        "    # Drop any rows with missing/NaN values\n",
        "    df = df.dropna()\n",
        "\n",
        "    return df\n"
      ],
      "metadata": {
        "id": "7qCbrwaV4Cum"
      },
      "execution_count": null,
      "outputs": []
    },
    {
      "cell_type": "code",
      "source": [
        "sample_path = \"/content/extracted/27nm_7-5mM_gel/discontinuous/20250617_400pm/27nm_7-5mM_gel.csv\"\n",
        "bkg_path    = \"/content/extracted/27nm_7-5mM_gel/discontinuous/20250617_400pm/7030_dmfeg_bkg.csv\"\n",
        "\n",
        "df_sample = load_clean_csv(sample_path)\n",
        "df_bkg    = load_clean_csv(bkg_path)\n",
        "\n",
        "# Rename columns to avoid conflicts\n",
        "df_sample.columns = [df_sample.columns[0]] + [f\"{col}_sample\" for col in df_sample.columns[1:]]\n",
        "df_bkg.columns    = [df_bkg.columns[0]] + [f\"{col}_bkg\" for col in df_bkg.columns[1:]]\n",
        "\n",
        "# Merge on wavenumber\n",
        "merged = pd.merge(df_sample, df_bkg, on=df_sample.columns[0])\n",
        "\n",
        "# Extract arrays and convert to float\n",
        "wavenumbers = merged.iloc[:, 0].values\n",
        "abs_sample  = merged.filter(like='_sample').astype(float).values\n",
        "abs_bkg     = merged.filter(like='_bkg').astype(float).values\n",
        "\n",
        "# Subtract background\n",
        "abs_corrected = abs_sample - abs_bkg\n"
      ],
      "metadata": {
        "id": "WGA_9cnM4Htt"
      },
      "execution_count": null,
      "outputs": []
    },
    {
      "cell_type": "code",
      "source": [
        "print(\"Corrected absorbance shape:\", abs_corrected.shape)\n"
      ],
      "metadata": {
        "colab": {
          "base_uri": "https://localhost:8080/"
        },
        "id": "qyFbcMvV4cnG",
        "outputId": "80be1b45-bc66-48f7-fdec-6eb1cd855b55"
      },
      "execution_count": null,
      "outputs": [
        {
          "output_type": "stream",
          "name": "stdout",
          "text": [
            "Corrected absorbance shape: (3973, 1)\n"
          ]
        }
      ]
    },
    {
      "cell_type": "code",
      "source": [
        "import pandas as pd\n",
        "\n",
        "# ✅ Load the CSV correctly\n",
        "path = \"/content/extracted/27nm_7-5mM_gel/continuous/27nm_7-5mM_gel.csv\"\n",
        "\n",
        "# ✅ Try skipping first row (if it's header-like), and force numeric conversion\n",
        "df = pd.read_csv(path, skiprows=1)\n",
        "df = df.apply(pd.to_numeric, errors='coerce')  # turn everything numeric where possible\n",
        "df.dropna(axis=1, how='all', inplace=True)     # drop fully empty columns\n",
        "\n",
        "# 👀\n",
        "\n"
      ],
      "metadata": {
        "id": "iYV6axxV9SNT"
      },
      "execution_count": null,
      "outputs": []
    },
    {
      "cell_type": "code",
      "source": [
        "print(\"🔎 Columns:\", df.columns.tolist())\n",
        "print(\"\\n🧪 First few rows:\")\n",
        "print(df.head(10))\n"
      ],
      "metadata": {
        "colab": {
          "base_uri": "https://localhost:8080/"
        },
        "id": "erpnUJYn-ByT",
        "outputId": "755f1237-1a14-46a8-ac1b-41026efcafc3"
      },
      "execution_count": null,
      "outputs": [
        {
          "output_type": "stream",
          "name": "stdout",
          "text": [
            "🔎 Columns: ['Wavenumber (cm-1)', 'Abs', 'Wavenumber (cm-1).1', 'Abs.1', 'Wavenumber (cm-1).2', 'Abs.2', 'Wavenumber (cm-1).3', 'Abs.3', 'Wavenumber (cm-1).4', 'Abs.4', 'Wavenumber (cm-1).5', 'Abs.5', 'Wavenumber (cm-1).6', 'Abs.6', 'Wavenumber (cm-1).7', 'Abs.7', 'Wavenumber (cm-1).8', 'Abs.8', 'Wavenumber (cm-1).9', 'Abs.9', 'Wavenumber (cm-1).10', 'Abs.10', 'Wavenumber (cm-1).11', 'Abs.11', 'Wavenumber (cm-1).12', 'Abs.12', 'Wavenumber (cm-1).13', 'Abs.13', 'Wavenumber (cm-1).14', 'Abs.14', 'Wavenumber (cm-1).15', 'Abs.15', 'Wavenumber (cm-1).16', 'Abs.16', 'Wavenumber (cm-1).17', 'Abs.17', 'Wavenumber (cm-1).18', 'Abs.18', 'Wavenumber (cm-1).19', 'Abs.19', 'Wavenumber (cm-1).20', 'Abs.20', 'Wavenumber (cm-1).21', 'Abs.21', 'Wavenumber (cm-1).22', 'Abs.22', 'Wavenumber (cm-1).23', 'Abs.23', 'Wavenumber (cm-1).24', 'Abs.24', 'Wavenumber (cm-1).25', 'Abs.25', 'Wavenumber (cm-1).26', 'Abs.26', 'Wavenumber (cm-1).27', 'Abs.27', 'Wavenumber (cm-1).28', 'Abs.28', 'Wavenumber (cm-1).29', 'Abs.29', 'Wavenumber (cm-1).30', 'Abs.30', 'Wavenumber (cm-1).31', 'Abs.31', 'Wavenumber (cm-1).32', 'Abs.32', 'Wavenumber (cm-1).33', 'Abs.33', 'Wavenumber (cm-1).34', 'Abs.34', 'Wavenumber (cm-1).35', 'Abs.35', 'Wavenumber (cm-1).36', 'Abs.36', 'Wavenumber (cm-1).37', 'Abs.37', 'Wavenumber (cm-1).38', 'Abs.38', 'Wavenumber (cm-1).39', 'Abs.39', 'Wavenumber (cm-1).40', 'Abs.40', 'Wavenumber (cm-1).41', 'Abs.41', 'Wavenumber (cm-1).42', 'Abs.42', 'Wavenumber (cm-1).43', 'Abs.43', 'Wavenumber (cm-1).44', 'Abs.44', 'Wavenumber (cm-1).45', 'Abs.45', 'Wavenumber (cm-1).46', 'Abs.46', 'Wavenumber (cm-1).47', 'Abs.47', 'Wavenumber (cm-1).48', 'Abs.48', 'Wavenumber (cm-1).49', 'Abs.49', 'Wavenumber (cm-1).50', 'Abs.50', 'Wavenumber (cm-1).51', 'Abs.51', 'Wavenumber (cm-1).52', 'Abs.52', 'Wavenumber (cm-1).53', 'Abs.53', 'Wavenumber (cm-1).54', 'Abs.54', 'Wavenumber (cm-1).55', 'Abs.55', 'Wavenumber (cm-1).56', 'Abs.56', 'Wavenumber (cm-1).57', 'Abs.57', 'Wavenumber (cm-1).58', 'Abs.58', 'Wavenumber (cm-1).59', 'Abs.59', 'Wavenumber (cm-1).60', 'Abs.60', 'Wavenumber (cm-1).61', 'Abs.61', 'Wavenumber (cm-1).62', 'Abs.62', 'Wavenumber (cm-1).63', 'Abs.63', 'Wavenumber (cm-1).64', 'Abs.64', 'Wavenumber (cm-1).65', 'Abs.65', 'Wavenumber (cm-1).66', 'Abs.66', 'Wavenumber (cm-1).67', 'Abs.67', 'Wavenumber (cm-1).68', 'Abs.68', 'Wavenumber (cm-1).69', 'Abs.69', 'Wavenumber (cm-1).70', 'Abs.70', 'Wavenumber (cm-1).71', 'Abs.71', 'Wavenumber (cm-1).72', 'Abs.72', 'Wavenumber (cm-1).73', 'Abs.73', 'Wavenumber (cm-1).74', 'Abs.74', 'Wavenumber (cm-1).75', 'Abs.75', 'Wavenumber (cm-1).76', 'Abs.76', 'Wavenumber (cm-1).77', 'Abs.77', 'Wavenumber (cm-1).78', 'Abs.78', 'Wavenumber (cm-1).79', 'Abs.79', 'Wavenumber (cm-1).80', 'Abs.80', 'Wavenumber (cm-1).81', 'Abs.81', 'Wavenumber (cm-1).82', 'Abs.82', 'Wavenumber (cm-1).83', 'Abs.83', 'Wavenumber (cm-1).84', 'Abs.84', 'Wavenumber (cm-1).85', 'Abs.85', 'Wavenumber (cm-1).86', 'Abs.86', 'Wavenumber (cm-1).87', 'Abs.87', 'Wavenumber (cm-1).88', 'Abs.88', 'Wavenumber (cm-1).89', 'Abs.89', 'Wavenumber (cm-1).90', 'Abs.90', 'Wavenumber (cm-1).91', 'Abs.91', 'Wavenumber (cm-1).92', 'Abs.92', 'Wavenumber (cm-1).93', 'Abs.93', 'Wavenumber (cm-1).94', 'Abs.94', 'Wavenumber (cm-1).95', 'Abs.95', 'Wavenumber (cm-1).96', 'Abs.96', 'Wavenumber (cm-1).97', 'Abs.97', 'Wavenumber (cm-1).98', 'Abs.98', 'Wavenumber (cm-1).99', 'Abs.99', 'Wavenumber (cm-1).100', 'Abs.100', 'Wavenumber (cm-1).101', 'Abs.101', 'Wavenumber (cm-1).102', 'Abs.102', 'Wavenumber (cm-1).103', 'Abs.103', 'Wavenumber (cm-1).104', 'Abs.104', 'Wavenumber (cm-1).105', 'Abs.105', 'Wavenumber (cm-1).106', 'Abs.106', 'Wavenumber (cm-1).107', 'Abs.107', 'Wavenumber (cm-1).108', 'Abs.108', 'Wavenumber (cm-1).109', 'Abs.109', 'Wavenumber (cm-1).110', 'Abs.110', 'Wavenumber (cm-1).111', 'Abs.111', 'Wavenumber (cm-1).112', 'Abs.112', 'Wavenumber (cm-1).113', 'Abs.113', 'Wavenumber (cm-1).114', 'Abs.114', 'Wavenumber (cm-1).115', 'Abs.115', 'Wavenumber (cm-1).116', 'Abs.116', 'Wavenumber (cm-1).117', 'Abs.117', 'Wavenumber (cm-1).118', 'Abs.118', 'Wavenumber (cm-1).119', 'Abs.119', 'Wavenumber (cm-1).120', 'Abs.120', 'Wavenumber (cm-1).121', 'Abs.121', 'Wavenumber (cm-1).122', 'Abs.122', 'Wavenumber (cm-1).123', 'Abs.123', 'Wavenumber (cm-1).124', 'Abs.124', 'Wavenumber (cm-1).125', 'Abs.125', 'Wavenumber (cm-1).126', 'Abs.126', 'Wavenumber (cm-1).127', 'Abs.127', 'Wavenumber (cm-1).128', 'Abs.128', 'Wavenumber (cm-1).129', 'Abs.129', 'Wavenumber (cm-1).130', 'Abs.130', 'Wavenumber (cm-1).131', 'Abs.131', 'Wavenumber (cm-1).132', 'Abs.132', 'Wavenumber (cm-1).133', 'Abs.133', 'Wavenumber (cm-1).134', 'Abs.134', 'Wavenumber (cm-1).135', 'Abs.135', 'Wavenumber (cm-1).136', 'Abs.136', 'Wavenumber (cm-1).137', 'Abs.137', 'Wavenumber (cm-1).138', 'Abs.138', 'Wavenumber (cm-1).139', 'Abs.139', 'Wavenumber (cm-1).140', 'Abs.140', 'Wavenumber (cm-1).141', 'Abs.141', 'Wavenumber (cm-1).142', 'Abs.142', 'Wavenumber (cm-1).143', 'Abs.143', 'Wavenumber (cm-1).144', 'Abs.144', 'Wavenumber (cm-1).145', 'Abs.145', 'Wavenumber (cm-1).146', 'Abs.146', 'Wavenumber (cm-1).147', 'Abs.147', 'Wavenumber (cm-1).148', 'Abs.148', 'Wavenumber (cm-1).149', 'Abs.149', 'Wavenumber (cm-1).150', 'Abs.150', 'Wavenumber (cm-1).151', 'Abs.151', 'Wavenumber (cm-1).152', 'Abs.152', 'Wavenumber (cm-1).153', 'Abs.153', 'Wavenumber (cm-1).154', 'Abs.154', 'Wavenumber (cm-1).155', 'Abs.155', 'Wavenumber (cm-1).156', 'Abs.156', 'Wavenumber (cm-1).157', 'Abs.157', 'Wavenumber (cm-1).158', 'Abs.158', 'Wavenumber (cm-1).159', 'Abs.159', 'Wavenumber (cm-1).160', 'Abs.160', 'Wavenumber (cm-1).161', 'Abs.161', 'Wavenumber (cm-1).162', 'Abs.162', 'Wavenumber (cm-1).163', 'Abs.163', 'Wavenumber (cm-1).164', 'Abs.164', 'Wavenumber (cm-1).165', 'Abs.165', 'Wavenumber (cm-1).166', 'Abs.166', 'Wavenumber (cm-1).167', 'Abs.167', 'Wavenumber (cm-1).168', 'Abs.168', 'Wavenumber (cm-1).169', 'Abs.169', 'Wavenumber (cm-1).170', 'Abs.170', 'Wavenumber (cm-1).171', 'Abs.171', 'Wavenumber (cm-1).172', 'Abs.172', 'Wavenumber (cm-1).173', 'Abs.173', 'Wavenumber (cm-1).174', 'Abs.174', 'Wavenumber (cm-1).175', 'Abs.175', 'Wavenumber (cm-1).176', 'Abs.176', 'Wavenumber (cm-1).177', 'Abs.177', 'Wavenumber (cm-1).178', 'Abs.178', 'Wavenumber (cm-1).179', 'Abs.179', 'Wavenumber (cm-1).180', 'Abs.180', 'Wavenumber (cm-1).181', 'Abs.181', 'Wavenumber (cm-1).182', 'Abs.182', 'Wavenumber (cm-1).183', 'Abs.183', 'Wavenumber (cm-1).184', 'Abs.184', 'Wavenumber (cm-1).185', 'Abs.185', 'Wavenumber (cm-1).186', 'Abs.186', 'Wavenumber (cm-1).187', 'Abs.187', 'Wavenumber (cm-1).188', 'Abs.188', 'Wavenumber (cm-1).189', 'Abs.189', 'Wavenumber (cm-1).190', 'Abs.190', 'Wavenumber (cm-1).191', 'Abs.191', 'Wavenumber (cm-1).192', 'Abs.192', 'Wavenumber (cm-1).193', 'Abs.193', 'Wavenumber (cm-1).194', 'Abs.194', 'Wavenumber (cm-1).195', 'Abs.195', 'Wavenumber (cm-1).196', 'Abs.196', 'Wavenumber (cm-1).197', 'Abs.197', 'Wavenumber (cm-1).198', 'Abs.198']\n",
            "\n",
            "🧪 First few rows:\n",
            "   Wavenumber (cm-1)   Abs  Wavenumber (cm-1).1  Abs.1  Wavenumber (cm-1).2  \\\n",
            "0        3034.000000  10.0          3034.000000   10.0          3034.000000   \n",
            "1        3038.079102  10.0          3038.079102   10.0          3038.079102   \n",
            "2        3042.157959  10.0          3042.157959   10.0          3042.157959   \n",
            "3        3046.237061  10.0          3046.237061   10.0          3046.237061   \n",
            "4        3050.315918  10.0          3050.315918   10.0          3050.315918   \n",
            "5        3054.395020  10.0          3054.395020   10.0          3054.395020   \n",
            "6        3058.474121  10.0          3058.474121   10.0          3058.474121   \n",
            "7        3062.552979  10.0          3062.552979   10.0          3062.552979   \n",
            "8        3066.632080  10.0          3066.632080   10.0          3066.632080   \n",
            "9        3070.710938  10.0          3070.710938   10.0          3070.710938   \n",
            "\n",
            "   Abs.2  Wavenumber (cm-1).3  Abs.3  Wavenumber (cm-1).4  Abs.4  ...  \\\n",
            "0   10.0          3034.000000   10.0          3034.000000   10.0  ...   \n",
            "1   10.0          3038.079102   10.0          3038.079102   10.0  ...   \n",
            "2   10.0          3042.157959   10.0          3042.157959   10.0  ...   \n",
            "3   10.0          3046.237061   10.0          3046.237061   10.0  ...   \n",
            "4   10.0          3050.315918   10.0          3050.315918   10.0  ...   \n",
            "5   10.0          3054.395020   10.0          3054.395020   10.0  ...   \n",
            "6   10.0          3058.474121   10.0          3058.474121   10.0  ...   \n",
            "7   10.0          3062.552979   10.0          3062.552979   10.0  ...   \n",
            "8   10.0          3066.632080   10.0          3066.632080   10.0  ...   \n",
            "9   10.0          3070.710938   10.0          3070.710938   10.0  ...   \n",
            "\n",
            "   Wavenumber (cm-1).194  Abs.194  Wavenumber (cm-1).195  Abs.195  \\\n",
            "0            3034.000000     10.0            3034.000000     10.0   \n",
            "1            3038.079102     10.0            3038.079102     10.0   \n",
            "2            3042.157959     10.0            3042.157959     10.0   \n",
            "3            3046.237061     10.0            3046.237061     10.0   \n",
            "4            3050.315918     10.0            3050.315918     10.0   \n",
            "5            3054.395020     10.0            3054.395020     10.0   \n",
            "6            3058.474121     10.0            3058.474121     10.0   \n",
            "7            3062.552979     10.0            3062.552979     10.0   \n",
            "8            3066.632080     10.0            3066.632080     10.0   \n",
            "9            3070.710938     10.0            3070.710938     10.0   \n",
            "\n",
            "   Wavenumber (cm-1).196  Abs.196  Wavenumber (cm-1).197  Abs.197  \\\n",
            "0            3034.000000     10.0            3034.000000     10.0   \n",
            "1            3038.079102     10.0            3038.079102     10.0   \n",
            "2            3042.157959     10.0            3042.157959     10.0   \n",
            "3            3046.237061     10.0            3046.237061     10.0   \n",
            "4            3050.315918     10.0            3050.315918     10.0   \n",
            "5            3054.395020     10.0            3054.395020     10.0   \n",
            "6            3058.474121     10.0            3058.474121     10.0   \n",
            "7            3062.552979     10.0            3062.552979     10.0   \n",
            "8            3066.632080     10.0            3066.632080     10.0   \n",
            "9            3070.710938     10.0            3070.710938     10.0   \n",
            "\n",
            "   Wavenumber (cm-1).198  Abs.198  \n",
            "0            3034.000000     10.0  \n",
            "1            3038.079102     10.0  \n",
            "2            3042.157959     10.0  \n",
            "3            3046.237061     10.0  \n",
            "4            3050.315918     10.0  \n",
            "5            3054.395020     10.0  \n",
            "6            3058.474121     10.0  \n",
            "7            3062.552979     10.0  \n",
            "8            3066.632080     10.0  \n",
            "9            3070.710938     10.0  \n",
            "\n",
            "[10 rows x 398 columns]\n"
          ]
        }
      ]
    },
    {
      "cell_type": "code",
      "source": [
        "sample_path = \"/content/extracted/27nm_7-5mM_gel/discontinuous/20250617_400pm/27nm_7-5mM_gel.csv\"\n",
        "bkg_path    = \"/content/extracted/27nm_7-5mM_gel/discontinuous/20250617_400pm/7030_dmfeg_bkg.csv\"\n",
        "\n",
        "\n"
      ],
      "metadata": {
        "id": "Iy7toLjQ-eg7"
      },
      "execution_count": null,
      "outputs": []
    },
    {
      "cell_type": "code",
      "source": [
        "import pandas as pd\n",
        "\n",
        "# Load sample and background with headers inferred\n",
        "df_sample = pd.read_csv(sample_path)\n",
        "df_bkg = pd.read_csv(bkg_path)\n",
        "\n",
        "print(\"Sample head:\\n\", df_sample.head(), \"\\n\")\n",
        "print(\"Background head:\\n\", df_bkg.head(), \"\\n\")\n",
        "\n",
        "print(\"Sample shape:\", df_sample.shape)\n",
        "print(\"Background shape:\", df_bkg.shape)\n",
        "\n",
        "print(\"\\nSample dtypes:\\n\", df_sample.dtypes)\n",
        "print(\"\\nBackground dtypes:\\n\", df_bkg.dtypes)\n"
      ],
      "metadata": {
        "colab": {
          "base_uri": "https://localhost:8080/"
        },
        "id": "881sDUY8_zBo",
        "outputId": "1df6f4af-8874-4b4c-f78e-17e92dec63c3"
      },
      "execution_count": null,
      "outputs": [
        {
          "output_type": "stream",
          "name": "stdout",
          "text": [
            "Sample head:\n",
            "             Sample_1 Unnamed: 1 Unnamed: 2\n",
            "0  Wavenumber (cm-1)        Abs        NaN\n",
            "1               3034         10        NaN\n",
            "2            3035.25         10        NaN\n",
            "3             3036.5         10        NaN\n",
            "4            3037.75         10        NaN \n",
            "\n",
            "Background head:\n",
            "           7030_dmfeg Unnamed: 1 Unnamed: 2\n",
            "0  Wavenumber (cm-1)        Abs        NaN\n",
            "1               3034         10        NaN\n",
            "2            3035.25         10        NaN\n",
            "3             3036.5         10        NaN\n",
            "4            3037.75         10        NaN \n",
            "\n",
            "Sample shape: (3992, 3)\n",
            "Background shape: (4004, 3)\n",
            "\n",
            "Sample dtypes:\n",
            " Sample_1      object\n",
            "Unnamed: 1    object\n",
            "Unnamed: 2    object\n",
            "dtype: object\n",
            "\n",
            "Background dtypes:\n",
            " 7030_dmfeg    object\n",
            "Unnamed: 1    object\n",
            "Unnamed: 2    object\n",
            "dtype: object\n"
          ]
        }
      ]
    },
    {
      "cell_type": "code",
      "source": [
        "def load_clean_csv(path, label):\n",
        "    # Find first row where first 2 columns are numeric\n",
        "    with open(path, 'r') as f:\n",
        "        lines = f.readlines()\n",
        "    start_idx = 0\n",
        "    for i, line in enumerate(lines):\n",
        "        parts = line.strip().split(',')\n",
        "        if len(parts) < 2:\n",
        "            continue\n",
        "        try:\n",
        "            float(parts[0])\n",
        "            float(parts[1])\n",
        "            start_idx = i\n",
        "            break\n",
        "        except ValueError:\n",
        "            continue\n",
        "\n",
        "    # Load from first numeric row\n",
        "    df = pd.read_csv(path, skiprows=start_idx, usecols=[0,1], names=['Wavenumber', label])\n",
        "    df = df.dropna()\n",
        "    df = df.astype(float)\n",
        "    return df\n",
        "\n"
      ],
      "metadata": {
        "id": "gxKJPfboAcc5"
      },
      "execution_count": null,
      "outputs": []
    },
    {
      "cell_type": "code",
      "source": [
        "import csv\n",
        "import pandas as pd\n",
        "\n",
        "def load_clean_csv(path, label):\n",
        "    clean_rows = []\n",
        "    with open(path, 'r') as f:\n",
        "        reader = csv.reader(f)\n",
        "        for row in reader:\n",
        "            if len(row) < 2:\n",
        "                continue\n",
        "            try:\n",
        "                x = float(row[0])\n",
        "                y = float(row[1])\n",
        "                clean_rows.append([x, y])\n",
        "            except ValueError:\n",
        "                continue\n",
        "\n",
        "    df = pd.DataFrame(clean_rows, columns=['Wavenumber', label])\n",
        "    return df\n",
        "\n",
        "# Load sample and background\n",
        "df_sample = load_clean_csv(sample_path, 'Abs_sample')\n",
        "df_bkg    = load_clean_csv(bkg_path, 'Abs_bkg')\n",
        "\n",
        "# 🧮 Merge and correct\n",
        "merged = pd.merge(df_sample, df_bkg, on='Wavenumber')\n",
        "merged['Abs_corrected'] = merged['Abs_sample'] - merged['Abs_bkg']\n",
        "\n",
        "# ✅ Inspect\n",
        "print(merged.head())\n",
        "print(\"\\nCorrected absorbance shape:\", merged[['Abs_corrected']].shape)\n"
      ],
      "metadata": {
        "colab": {
          "base_uri": "https://localhost:8080/"
        },
        "id": "K96Qp7mQB5n6",
        "outputId": "8609addd-e7b5-4f14-ab97-91165516c8c3"
      },
      "execution_count": null,
      "outputs": [
        {
          "output_type": "stream",
          "name": "stdout",
          "text": [
            "   Wavenumber  Abs_sample  Abs_bkg  Abs_corrected\n",
            "0     3034.00        10.0     10.0            0.0\n",
            "1     3035.25        10.0     10.0            0.0\n",
            "2     3036.50        10.0     10.0            0.0\n",
            "3     3037.75        10.0     10.0            0.0\n",
            "4     3039.00        10.0     10.0            0.0\n",
            "\n",
            "Corrected absorbance shape: (3974, 1)\n"
          ]
        }
      ]
    },
    {
      "cell_type": "code",
      "source": [
        "import matplotlib.pyplot as plt\n",
        "\n",
        "plt.figure(figsize=(10, 5))\n",
        "plt.plot(merged['Wavenumber'], merged['Abs_corrected'], color='purple', linewidth=1.5)\n",
        "plt.xlabel('Wavenumber (cm⁻¹)', fontsize=12)\n",
        "plt.ylabel('Corrected Absorbance', fontsize=12)\n",
        "plt.title('Corrected Absorbance Spectrum', fontsize=14)\n",
        "plt.grid(True)\n",
        "plt.gca().invert_xaxis()  # IR plots usually have decreasing wavenumber\n",
        "plt.tight_layout()\n",
        "plt.show()\n"
      ],
      "metadata": {
        "id": "Tp6qydtkC4LB",
        "outputId": "35539ef0-077b-40fc-c4b8-6d72c1c3f5c9",
        "colab": {
          "base_uri": "https://localhost:8080/",
          "height": 507
        }
      },
      "execution_count": null,
      "outputs": [
        {
          "output_type": "display_data",
          "data": {
            "text/plain": [
              "<Figure size 1000x500 with 1 Axes>"
            ],
            "image/png": "[encoded data removed]"
          },
          "metadata": {}
        }
      ]
    }
  ]
}