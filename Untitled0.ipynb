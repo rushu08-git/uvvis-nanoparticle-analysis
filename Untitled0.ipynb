{
  "nbformat": 4,
  "nbformat_minor": 0,
  "metadata": {
    "colab": {
      "provenance": []
    },
    "kernelspec": {
      "name": "python3",
      "display_name": "Python 3"
    },
    "language_info": {
      "name": "python"
    }
  },
  "cells": [
    {
      "cell_type": "code",
      "execution_count": null,
      "metadata": {
        "colab": {
          "base_uri": "https://localhost:8080/",
          "height": 72
        },
        "id": "FjAkYY07FRdI",
        "outputId": "957b04aa-5e14-46ec-f0b7-32b16e71f084"
      },
      "outputs": [
        {
          "output_type": "display_data",
          "data": {
            "text/plain": [
              "<IPython.core.display.HTML object>"
            ],
            "text/html": [
              "\n",
              "     <input type=\"file\" id=\"files-9c5b4bf4-cb13-413e-a6dc-56e5266e896b\" name=\"files[]\" multiple disabled\n",
              "        style=\"border:none\" />\n",
              "     <output id=\"result-9c5b4bf4-cb13-413e-a6dc-56e5266e896b\">\n",
              "      Upload widget is only available when the cell has been executed in the\n",
              "      current browser session. Please rerun this cell to enable.\n",
              "      </output>\n",
              "      <script>// Copyright 2017 Google LLC\n",
              "//\n",
              "// Licensed under the Apache License, Version 2.0 (the \"License\");\n",
              "// you may not use this file except in compliance with the License.\n",
              "// You may obtain a copy of the License at\n",
              "//\n",
              "//      http://www.apache.org/licenses/LICENSE-2.0\n",
              "//\n",
              "// Unless required by applicable law or agreed to in writing, software\n",
              "// distributed under the License is distributed on an \"AS IS\" BASIS,\n",
              "// WITHOUT WARRANTIES OR CONDITIONS OF ANY KIND, either express or implied.\n",
              "// See the License for the specific language governing permissions and\n",
              "// limitations under the License.\n",
              "\n",
              "/**\n",
              " * @fileoverview Helpers for google.colab Python module.\n",
              " */\n",
              "(function(scope) {\n",
              "function span(text, styleAttributes = {}) {\n",
              "  const element = document.createElement('span');\n",
              "  element.textContent = text;\n",
              "  for (const key of Object.keys(styleAttributes)) {\n",
              "    element.style[key] = styleAttributes[key];\n",
              "  }\n",
              "  return element;\n",
              "}\n",
              "\n",
              "// Max number of bytes which will be uploaded at a time.\n",
              "const MAX_PAYLOAD_SIZE = 100 * 1024;\n",
              "\n",
              "function _uploadFiles(inputId, outputId) {\n",
              "  const steps = uploadFilesStep(inputId, outputId);\n",
              "  const outputElement = document.getElementById(outputId);\n",
              "  // Cache steps on the outputElement to make it available for the next call\n",
              "  // to uploadFilesContinue from Python.\n",
              "  outputElement.steps = steps;\n",
              "\n",
              "  return _uploadFilesContinue(outputId);\n",
              "}\n",
              "\n",
              "// This is roughly an async generator (not supported in the browser yet),\n",
              "// where there are multiple asynchronous steps and the Python side is going\n",
              "// to poll for completion of each step.\n",
              "// This uses a Promise to block the python side on completion of each step,\n",
              "// then passes the result of the previous step as the input to the next step.\n",
              "function _uploadFilesContinue(outputId) {\n",
              "  const outputElement = document.getElementById(outputId);\n",
              "  const steps = outputElement.steps;\n",
              "\n",
              "  const next = steps.next(outputElement.lastPromiseValue);\n",
              "  return Promise.resolve(next.value.promise).then((value) => {\n",
              "    // Cache the last promise value to make it available to the next\n",
              "    // step of the generator.\n",
              "    outputElement.lastPromiseValue = value;\n",
              "    return next.value.response;\n",
              "  });\n",
              "}\n",
              "\n",
              "/**\n",
              " * Generator function which is called between each async step of the upload\n",
              " * process.\n",
              " * @param {string} inputId Element ID of the input file picker element.\n",
              " * @param {string} outputId Element ID of the output display.\n",
              " * @return {!Iterable<!Object>} Iterable of next steps.\n",
              " */\n",
              "function* uploadFilesStep(inputId, outputId) {\n",
              "  const inputElement = document.getElementById(inputId);\n",
              "  inputElement.disabled = false;\n",
              "\n",
              "  const outputElement = document.getElementById(outputId);\n",
              "  outputElement.innerHTML = '';\n",
              "\n",
              "  const pickedPromise = new Promise((resolve) => {\n",
              "    inputElement.addEventListener('change', (e) => {\n",
              "      resolve(e.target.files);\n",
              "    });\n",
              "  });\n",
              "\n",
              "  const cancel = document.createElement('button');\n",
              "  inputElement.parentElement.appendChild(cancel);\n",
              "  cancel.textContent = 'Cancel upload';\n",
              "  const cancelPromise = new Promise((resolve) => {\n",
              "    cancel.onclick = () => {\n",
              "      resolve(null);\n",
              "    };\n",
              "  });\n",
              "\n",
              "  // Wait for the user to pick the files.\n",
              "  const files = yield {\n",
              "    promise: Promise.race([pickedPromise, cancelPromise]),\n",
              "    response: {\n",
              "      action: 'starting',\n",
              "    }\n",
              "  };\n",
              "\n",
              "  cancel.remove();\n",
              "\n",
              "  // Disable the input element since further picks are not allowed.\n",
              "  inputElement.disabled = true;\n",
              "\n",
              "  if (!files) {\n",
              "    return {\n",
              "      response: {\n",
              "        action: 'complete',\n",
              "      }\n",
              "    };\n",
              "  }\n",
              "\n",
              "  for (const file of files) {\n",
              "    const li = document.createElement('li');\n",
              "    li.append(span(file.name, {fontWeight: 'bold'}));\n",
              "    li.append(span(\n",
              "        `(${file.type || 'n/a'}) - ${file.size} bytes, ` +\n",
              "        `last modified: ${\n",
              "            file.lastModifiedDate ? file.lastModifiedDate.toLocaleDateString() :\n",
              "                                    'n/a'} - `));\n",
              "    const percent = span('0% done');\n",
              "    li.appendChild(percent);\n",
              "\n",
              "    outputElement.appendChild(li);\n",
              "\n",
              "    const fileDataPromise = new Promise((resolve) => {\n",
              "      const reader = new FileReader();\n",
              "      reader.onload = (e) => {\n",
              "        resolve(e.target.result);\n",
              "      };\n",
              "      reader.readAsArrayBuffer(file);\n",
              "    });\n",
              "    // Wait for the data to be ready.\n",
              "    let fileData = yield {\n",
              "      promise: fileDataPromise,\n",
              "      response: {\n",
              "        action: 'continue',\n",
              "      }\n",
              "    };\n",
              "\n",
              "    // Use a chunked sending to avoid message size limits. See b/62115660.\n",
              "    let position = 0;\n",
              "    do {\n",
              "      const length = Math.min(fileData.byteLength - position, MAX_PAYLOAD_SIZE);\n",
              "      const chunk = new Uint8Array(fileData, position, length);\n",
              "      position += length;\n",
              "\n",
              "      const base64 = btoa(String.fromCharCode.apply(null, chunk));\n",
              "      yield {\n",
              "        response: {\n",
              "          action: 'append',\n",
              "          file: file.name,\n",
              "          data: base64,\n",
              "        },\n",
              "      };\n",
              "\n",
              "      let percentDone = fileData.byteLength === 0 ?\n",
              "          100 :\n",
              "          Math.round((position / fileData.byteLength) * 100);\n",
              "      percent.textContent = `${percentDone}% done`;\n",
              "\n",
              "    } while (position < fileData.byteLength);\n",
              "  }\n",
              "\n",
              "  // All done.\n",
              "  yield {\n",
              "    response: {\n",
              "      action: 'complete',\n",
              "    }\n",
              "  };\n",
              "}\n",
              "\n",
              "scope.google = scope.google || {};\n",
              "scope.google.colab = scope.google.colab || {};\n",
              "scope.google.colab._files = {\n",
              "  _uploadFiles,\n",
              "  _uploadFilesContinue,\n",
              "};\n",
              "})(self);\n",
              "</script> "
            ]
          },
          "metadata": {}
        },
        {
          "output_type": "stream",
          "name": "stdout",
          "text": [
            "Saving 27nm_7-5mM_gel.zip to 27nm_7-5mM_gel.zip\n"
          ]
        }
      ],
      "source": [
        "from google.colab import files\n",
        "\n",
        "uploaded = files.upload()  # Select your .zip file when prompted\n"
      ]
    },
    {
      "cell_type": "code",
      "source": [
        "import zipfile\n",
        "import os\n",
        "\n",
        "zip_path = \"/content/27nm_7-5mM_gel.zip\"  # Replace with your uploaded zip name\n",
        "extract_to = \"/content/extracted\"\n",
        "\n",
        "with zipfile.ZipFile(zip_path, 'r') as zip_ref:\n",
        "    zip_ref.extractall(extract_to)\n",
        "\n",
        "print(\"✅ Extracted successfully.\")\n"
      ],
      "metadata": {
        "colab": {
          "base_uri": "https://localhost:8080/"
        },
        "id": "19GWNPysF7zI",
        "outputId": "0a0934ec-e3ed-4ead-bd4f-62c94d818c78"
      },
      "execution_count": null,
      "outputs": [
        {
          "output_type": "stream",
          "name": "stdout",
          "text": [
            "✅ Extracted successfully.\n"
          ]
        }
      ]
    },
    {
      "cell_type": "code",
      "source": [
        "for dirpath, dirnames, filenames in os.walk(\"/content/extracted\"):\n",
        "    print(f\"\\n📁 {dirpath}\")\n",
        "    for file in filenames:\n",
        "        print(f\"   📄 {file}\")\n"
      ],
      "metadata": {
        "colab": {
          "base_uri": "https://localhost:8080/"
        },
        "id": "YDlT_veDGEgn",
        "outputId": "44848132-9b4c-4c3e-89cb-f1c1e9d1abea"
      },
      "execution_count": null,
      "outputs": [
        {
          "output_type": "stream",
          "name": "stdout",
          "text": [
            "\n",
            "📁 /content/extracted\n",
            "\n",
            "📁 /content/extracted/__MACOSX\n",
            "\n",
            "📁 /content/extracted/__MACOSX/27nm_7-5mM_gel\n",
            "   📄 ._discontinuous\n",
            "   📄 ._continuous\n",
            "   📄 ._.DS_Store\n",
            "\n",
            "📁 /content/extracted/__MACOSX/27nm_7-5mM_gel/continuous\n",
            "   📄 ._27nm_7-5mM_gel.csv\n",
            "   📄 ._7030_dmfeg_bkg.csv\n",
            "\n",
            "📁 /content/extracted/__MACOSX/27nm_7-5mM_gel/discontinuous\n",
            "   📄 ._20250620_1145am\n",
            "   📄 ._20250617_400pm\n",
            "   📄 ._.DS_Store\n",
            "\n",
            "📁 /content/extracted/__MACOSX/27nm_7-5mM_gel/discontinuous/20250620_1145am\n",
            "   📄 ._27nm_7-5mM_1145am.csv\n",
            "   📄 ._7030_dmfeg_bkg.csv\n",
            "\n",
            "📁 /content/extracted/__MACOSX/27nm_7-5mM_gel/discontinuous/20250617_400pm\n",
            "   📄 ._27nm_7-5mM_gel.csv\n",
            "   📄 ._7030_dmfeg_bkg.csv\n",
            "\n",
            "📁 /content/extracted/27nm_7-5mM_gel\n",
            "   📄 .DS_Store\n",
            "\n",
            "📁 /content/extracted/27nm_7-5mM_gel/continuous\n",
            "   📄 7030_dmfeg_bkg.csv\n",
            "   📄 27nm_7-5mM_gel.csv\n",
            "\n",
            "📁 /content/extracted/27nm_7-5mM_gel/discontinuous\n",
            "   📄 .DS_Store\n",
            "\n",
            "📁 /content/extracted/27nm_7-5mM_gel/discontinuous/20250620_1145am\n",
            "   📄 7030_dmfeg_bkg.csv\n",
            "   📄 27nm_7-5mM_1145am.csv\n",
            "\n",
            "📁 /content/extracted/27nm_7-5mM_gel/discontinuous/20250617_400pm\n",
            "   📄 7030_dmfeg_bkg.csv\n",
            "   📄 27nm_7-5mM_gel.csv\n"
          ]
        }
      ]
    },
    {
      "cell_type": "code",
      "source": [
        "import pandas as pd\n",
        "\n",
        "bkg_path = \"/content/extracted/27nm_7-5mM_gel/discontinuous/20250617_400pm/7030_dmfeg_bkg.csv\"\n",
        "\n",
        "# Skip junk headers and load only 2 columns: Wavenumber and Absorbance\n",
        "bkg_df = pd.read_csv(bkg_path, skiprows=3, usecols=[0, 1], names=[\"Wavenumber\", \"Absorbance\"])\n",
        "\n",
        "# Clean non-numeric entries\n",
        "bkg_df = bkg_df[pd.to_numeric(bkg_df[\"Wavenumber\"], errors=\"coerce\").notna()]\n",
        "bkg_df = bkg_df[pd.to_numeric(bkg_df[\"Absorbance\"], errors=\"coerce\").notna()]\n",
        "\n",
        "# Convert to arrays\n",
        "background_wavenumbers = bkg_df[\"Wavenumber\"].astype(float).values\n",
        "background_absorbance = bkg_df[\"Absorbance\"].astype(float).values\n",
        "\n",
        "print(\"✅ Background loaded:\", background_absorbance.shape)\n"
      ],
      "metadata": {
        "colab": {
          "base_uri": "https://localhost:8080/"
        },
        "id": "z1if_ObLGLd0",
        "outputId": "b9f670b1-aeb8-48aa-b5d6-ad093bec2e6d"
      },
      "execution_count": null,
      "outputs": [
        {
          "output_type": "stream",
          "name": "stdout",
          "text": [
            "✅ Background loaded: (3973,)\n"
          ]
        }
      ]
    },
    {
      "cell_type": "code",
      "source": [
        "import os\n",
        "import pandas as pd\n",
        "import numpy as np\n",
        "import matplotlib.pyplot as plt\n",
        "from matplotlib.colors import Normalize\n",
        "from matplotlib.colorbar import ColorbarBase\n"
      ],
      "metadata": {
        "id": "YpaMfbNtWf13"
      },
      "execution_count": null,
      "outputs": []
    },
    {
      "cell_type": "code",
      "source": [
        "def load_clean_spectrum(path):\n",
        "    import pandas as pd\n",
        "\n",
        "    # Load full file without headers\n",
        "    raw_df = pd.read_csv(path, header=None)\n",
        "\n",
        "    # Skip non-numeric rows\n",
        "    for i, row in raw_df.iterrows():\n",
        "        try:\n",
        "            float(row[0])\n",
        "            float(row[1])\n",
        "            data = raw_df.iloc[i:]\n",
        "            break\n",
        "        except:\n",
        "            continue\n",
        "\n",
        "    # Keep only first two columns and drop NaNs\n",
        "    data = data.iloc[:, :2]\n",
        "    data.columns = [\"Wavenumber\", \"Absorbance\"]\n",
        "    data.dropna(inplace=True)\n",
        "\n",
        "    # Convert to float\n",
        "    data = data.astype(float)\n",
        "    return data\n",
        "\n"
      ],
      "metadata": {
        "id": "D54SQZSyWhM0"
      },
      "execution_count": null,
      "outputs": []
    },
    {
      "cell_type": "code",
      "source": [
        "def load_clean_spectrum(path):\n",
        "    import pandas as pd\n",
        "    df = pd.read_csv(path, header=None)\n",
        "\n",
        "    # Keep only the first two columns\n",
        "    df = df.iloc[:, :2]\n",
        "    df.columns = [\"Wavenumber\", \"Absorbance\"]\n",
        "\n",
        "    # Filter rows: keep only rows where both columns are numeric\n",
        "    df = df[\n",
        "        pd.to_numeric(df[\"Wavenumber\"], errors=\"coerce\").notna() &\n",
        "        pd.to_numeric(df[\"Absorbance\"], errors=\"coerce\").notna()\n",
        "    ]\n",
        "\n",
        "    # Convert both columns to float\n",
        "    df[\"Wavenumber\"] = df[\"Wavenumber\"].astype(float)\n",
        "    df[\"Absorbance\"] = df[\"Absorbance\"].astype(float)\n",
        "\n",
        "    return df\n",
        "\n"
      ],
      "metadata": {
        "id": "zovXoXBqW08U"
      },
      "execution_count": null,
      "outputs": []
    },
    {
      "cell_type": "code",
      "source": [
        "spectra = []\n",
        "for file in sample_files:\n",
        "    path = os.path.join(sample_folder, file)\n",
        "    df = load_clean_spectrum(path)\n",
        "    spectra.append(df[\"Absorbance\"].values)\n",
        "\n",
        "wavenumbers = df[\"Wavenumber\"].values\n",
        "abs_matrix = np.array(spectra)\n",
        "\n",
        "print(\"✅ Cleaned absorbance matrix shape:\", abs_matrix.shape)\n"
      ],
      "metadata": {
        "colab": {
          "base_uri": "https://localhost:8080/"
        },
        "id": "Gvph2ud1XKVT",
        "outputId": "abac2153-bd80-4045-a1ab-84f93aa73bd8"
      },
      "execution_count": null,
      "outputs": [
        {
          "output_type": "stream",
          "name": "stdout",
          "text": [
            "✅ Cleaned absorbance matrix shape: (1, 1243)\n"
          ]
        }
      ]
    },
    {
      "cell_type": "code",
      "source": [
        "import matplotlib.pyplot as plt\n",
        "from matplotlib import cm\n",
        "from matplotlib.colors import Normalize\n",
        "import numpy as np\n",
        "\n",
        "# Create a colormap: red = late, blue = early\n",
        "num_spectra = abs_matrix.shape[0]\n",
        "hours = np.linspace(0, 72, num_spectra)  # Adjust time range as needed\n",
        "norm = Normalize(vmin=hours.min(), vmax=hours.max())\n",
        "colors = cm.coolwarm(norm(hours))\n",
        "\n",
        "# Plot\n",
        "fig, (ax1, ax2) = plt.subplots(2, 1, figsize=(10, 6), sharex=True)\n",
        "\n",
        "# --- Top plot: Raw absorbance ---\n",
        "for i in range(num_spectra):\n",
        "    ax1.plot(wavenumbers, abs_matrix[i], color=colors[i], alpha=0.7)\n",
        "\n",
        "ax1.set_ylabel(\"abs\")\n",
        "\n",
        "# --- Bottom plot: Difference from first spectrum (Δabs) ---\n",
        "delta_abs = abs_matrix - abs_matrix[0]\n",
        "for i in range(num_spectra):\n",
        "    ax2.plot(wavenumbers, delta_abs[i], color=colors[i], alpha=0.7)\n",
        "\n",
        "ax2.set_xlabel(\"wavenumber (1/cm)\")\n",
        "ax2.set_ylabel(\"abs - abs₀\")\n",
        "\n",
        "# --- Add colorbar for time ---\n",
        "cbar = fig.colorbar(cm.ScalarMappable(norm=norm, cmap=cm.coolwarm), ax=[ax1, ax2], orientation='horizontal', pad=0.2)\n",
        "cbar.set_label(\"Elapsed time (hours)\")\n",
        "\n",
        "plt.tight_layout()\n",
        "plt.show()\n"
      ],
      "metadata": {
        "id": "_drqR9r7XYpH",
        "outputId": "e8fd913d-a47a-476e-f2a2-e1adf5af16a1",
        "colab": {
          "base_uri": "https://localhost:8080/",
          "height": 685
        }
      },
      "execution_count": null,
      "outputs": [
        {
          "output_type": "stream",
          "name": "stderr",
          "text": [
            "/tmp/ipython-input-16-1222825057.py:33: UserWarning: This figure includes Axes that are not compatible with tight_layout, so results might be incorrect.\n",
            "  plt.tight_layout()\n"
          ]
        },
        {
          "output_type": "display_data",
          "data": {
            "text/plain": [
              "<Figure size 1000x600 with 3 Axes>"
            ],
            "image/png": "[encoded data removed]"
          },
          "metadata": {}
        }
      ]
    }
  ]
}